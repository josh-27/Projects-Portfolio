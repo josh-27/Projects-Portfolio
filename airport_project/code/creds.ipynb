{
 "cells": [
  {
   "cell_type": "code",
   "execution_count": null,
   "id": "269e198d-f353-4eb3-863a-f0ab9cc18e0b",
   "metadata": {},
   "outputs": [],
   "source": [
    "amdeus_id = 'GAAdX1ALHhCLGHU1ihD2MIcvlzuy1HxF'"
   ]
  }
 ],
 "metadata": {
  "kernelspec": {
   "display_name": "Python 3 (ipykernel)",
   "language": "python",
   "name": "python3"
  },
  "language_info": {
   "codemirror_mode": {
    "name": "ipython",
    "version": 3
   },
   "file_extension": ".py",
   "mimetype": "text/x-python",
   "name": "python",
   "nbconvert_exporter": "python",
   "pygments_lexer": "ipython3",
   "version": "3.10.9"
  }
 },
 "nbformat": 4,
 "nbformat_minor": 5
}
