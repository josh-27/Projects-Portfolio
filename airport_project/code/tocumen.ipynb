{
 "cells": [
  {
   "cell_type": "code",
   "execution_count": 1,
   "id": "a2de7bd7-9192-4555-ade0-bda9bf6fb7f9",
   "metadata": {},
   "outputs": [],
   "source": [
    "import pandas as pd"
   ]
  },
  {
   "cell_type": "code",
   "execution_count": 30,
   "id": "14ec6634-304b-49ed-8868-848f929e5acb",
   "metadata": {},
   "outputs": [],
   "source": [
    "#reading the csv files\n",
    "direct = pd.read_csv('./csv/Direct_routes.csv')\n",
    "airlines = pd.read_csv('./csv/Airlines_IATA_code.csv')"
   ]
  },
  {
   "cell_type": "code",
   "execution_count": 31,
   "id": "68cede1a-e5db-4b33-9541-381f956c99fe",
   "metadata": {},
   "outputs": [],
   "source": [
    "#changing columns name\n",
    "airlines.rename(columns={'IATA Code' : 'Carrier'}, inplace=True)"
   ]
  },
  {
   "cell_type": "code",
   "execution_count": 68,
   "id": "f634320a-e9ab-4131-8210-07e06d5a39fa",
   "metadata": {},
   "outputs": [],
   "source": [
    "#extracting data using a for loop\n",
    "carrier = []\n",
    "for a in direct['Carrier']:\n",
    "    if a not in carrier:\n",
    "        carrier.append(a)\n",
    "    else:\n",
    "        pass"
   ]
  },
  {
   "cell_type": "code",
   "execution_count": 69,
   "id": "2e7eda99-5c28-4403-b306-0db593880f05",
   "metadata": {},
   "outputs": [
    {
     "data": {
      "text/plain": [
       "['CM',\n",
       " 'UA',\n",
       " 'AF',\n",
       " 'KL',\n",
       " 'TK',\n",
       " 'DL',\n",
       " 'KE',\n",
       " 'AV',\n",
       " 'P5',\n",
       " 'WW',\n",
       " 'AD',\n",
       " 'G3',\n",
       " 'ES',\n",
       " 'QL',\n",
       " 'KX',\n",
       " 'EK',\n",
       " 'IB',\n",
       " 'UX',\n",
       " 'BR',\n",
       " 'OZ',\n",
       " 'BA',\n",
       " 'LY',\n",
       " 'QR',\n",
       " 'AA',\n",
       " 'S6',\n",
       " 'T9',\n",
       " 'AC']"
      ]
     },
     "execution_count": 69,
     "metadata": {},
     "output_type": "execute_result"
    }
   ],
   "source": [
    "carrier"
   ]
  },
  {
   "cell_type": "code",
   "execution_count": 86,
   "id": "567967fa-d786-42e9-911c-a413ace45ca8",
   "metadata": {
    "scrolled": true
   },
   "outputs": [],
   "source": [
    "airline = {}\n",
    "for a, b in airlines.itertuples(index=False):\n",
    "    airline[a] = b\n"
   ]
  },
  {
   "cell_type": "code",
   "execution_count": 87,
   "id": "1c649189-c44e-4bb4-8120-b7d49b3ecc5b",
   "metadata": {},
   "outputs": [],
   "source": [
    "airlines_i = {}\n",
    "for a, b in airline.items():\n",
    "    for c in carrier:\n",
    "        if c == b:\n",
    "            airlines_i[a] = c\n",
    "            "
   ]
  },
  {
   "cell_type": "code",
   "execution_count": 140,
   "id": "c6ccb1b1-cc81-4d5d-874b-984f6037b18d",
   "metadata": {},
   "outputs": [
    {
     "data": {
      "text/plain": [
       "27"
      ]
     },
     "execution_count": 140,
     "metadata": {},
     "output_type": "execute_result"
    }
   ],
   "source": [
    "len(carrier)\n",
    "#comparing the number of elements"
   ]
  },
  {
   "cell_type": "code",
   "execution_count": 139,
   "id": "da4cf650-6fcb-4dcf-9d53-8dc8e24b0a94",
   "metadata": {},
   "outputs": [
    {
     "data": {
      "text/plain": [
       "26"
      ]
     },
     "execution_count": 139,
     "metadata": {},
     "output_type": "execute_result"
    }
   ],
   "source": [
    "len(airlines_i)\n",
    "#airlines_i is missing one value "
   ]
  },
  {
   "cell_type": "code",
   "execution_count": 121,
   "id": "b479ea03-f6ac-4b32-86e8-c8c5cce4c492",
   "metadata": {
    "scrolled": true
   },
   "outputs": [
    {
     "name": "stdout",
     "output_type": "stream",
     "text": [
      "WW\n"
     ]
    }
   ],
   "source": [
    "for a in carrier:\n",
    "    if a not in airlines_i.values():\n",
    "        print(a)\n",
    "#WW is the missin value. WW is the iata of Venezolana "
   ]
  },
  {
   "cell_type": "code",
   "execution_count": 137,
   "id": "e81e1e8b-4462-46d1-a1e1-9b16d1b0830e",
   "metadata": {
    "scrolled": true
   },
   "outputs": [
    {
     "data": {
      "text/html": [
       "<div>\n",
       "<style scoped>\n",
       "    .dataframe tbody tr th:only-of-type {\n",
       "        vertical-align: middle;\n",
       "    }\n",
       "\n",
       "    .dataframe tbody tr th {\n",
       "        vertical-align: top;\n",
       "    }\n",
       "\n",
       "    .dataframe thead th {\n",
       "        text-align: right;\n",
       "    }\n",
       "</style>\n",
       "<table border=\"1\" class=\"dataframe\">\n",
       "  <thead>\n",
       "    <tr style=\"text-align: right;\">\n",
       "      <th></th>\n",
       "      <th>Name</th>\n",
       "      <th>Carrier</th>\n",
       "    </tr>\n",
       "  </thead>\n",
       "  <tbody>\n",
       "    <tr>\n",
       "      <th>124</th>\n",
       "      <td>Venezolana</td>\n",
       "      <td>AW</td>\n",
       "    </tr>\n",
       "  </tbody>\n",
       "</table>\n",
       "</div>"
      ],
      "text/plain": [
       "           Name Carrier\n",
       "124  Venezolana      AW"
      ]
     },
     "execution_count": 137,
     "metadata": {},
     "output_type": "execute_result"
    }
   ],
   "source": [
    "value = 'Venezolana'\n",
    "mask = airlines['Name'].str.contains(value)\n",
    "airlines[mask]\n",
    "#dataset has an error, no WW but AW for venezolana \n",
    "#accordin to iata website venezolana iata is WW"
   ]
  },
  {
   "cell_type": "code",
   "execution_count": 141,
   "id": "4e1080e7-fb9d-43bc-aeda-3b20f86a5eb6",
   "metadata": {},
   "outputs": [],
   "source": [
    "#correcting data\n",
    "airlines_i['Venezolana'] = 'WW'"
   ]
  },
  {
   "cell_type": "code",
   "execution_count": 145,
   "id": "222705e1-d7bc-4c08-a34d-1708ca2060b2",
   "metadata": {
    "scrolled": true
   },
   "outputs": [],
   "source": [
    "#creating data frame and checking values\n",
    "iata_airlines = pd.DataFrame(airlines_i, columns=['Name', 'Carrier'])"
   ]
  },
  {
   "cell_type": "code",
   "execution_count": 148,
   "id": "889e1c26-7b83-4a67-94b1-1f0318b05483",
   "metadata": {},
   "outputs": [],
   "source": [
    "iata_airlines['Name'] = airlines_i.keys()"
   ]
  },
  {
   "cell_type": "code",
   "execution_count": 150,
   "id": "4609734a-f1bd-4732-a967-8285a7ae383b",
   "metadata": {},
   "outputs": [],
   "source": [
    "iata_airlines['Carrier'] = airlines_i.values()"
   ]
  },
  {
   "cell_type": "code",
   "execution_count": 155,
   "id": "1a563bd0-d12e-4602-a0f2-4257188d16e5",
   "metadata": {},
   "outputs": [],
   "source": [
    "#merging data frames in one\n",
    "df = iata_airlines.merge(direct, how='right', on='Carrier' )"
   ]
  },
  {
   "cell_type": "code",
   "execution_count": 165,
   "id": "f0e67cb9-5a63-4f75-aaaa-375ecc0bce71",
   "metadata": {},
   "outputs": [],
   "source": [
    "df.fillna('', inplace=True)\n"
   ]
  },
  {
   "cell_type": "code",
   "execution_count": 166,
   "id": "ca31a373-b9f6-4097-9d88-27a4e320fb41",
   "metadata": {},
   "outputs": [
    {
     "data": {
      "text/html": [
       "<div>\n",
       "<style scoped>\n",
       "    .dataframe tbody tr th:only-of-type {\n",
       "        vertical-align: middle;\n",
       "    }\n",
       "\n",
       "    .dataframe tbody tr th {\n",
       "        vertical-align: top;\n",
       "    }\n",
       "\n",
       "    .dataframe thead th {\n",
       "        text-align: right;\n",
       "    }\n",
       "</style>\n",
       "<table border=\"1\" class=\"dataframe\">\n",
       "  <thead>\n",
       "    <tr style=\"text-align: right;\">\n",
       "      <th></th>\n",
       "      <th>Name</th>\n",
       "      <th>Carrier</th>\n",
       "      <th>Route</th>\n",
       "      <th>Departure</th>\n",
       "      <th>Arrival</th>\n",
       "      <th>Code</th>\n",
       "    </tr>\n",
       "  </thead>\n",
       "  <tbody>\n",
       "    <tr>\n",
       "      <th>0</th>\n",
       "      <td>Copa Airlines</td>\n",
       "      <td>CM</td>\n",
       "      <td>ADZ-PTY</td>\n",
       "      <td>ADZ</td>\n",
       "      <td>PTY</td>\n",
       "      <td></td>\n",
       "    </tr>\n",
       "    <tr>\n",
       "      <th>1</th>\n",
       "      <td>United Airlines</td>\n",
       "      <td>UA</td>\n",
       "      <td>ADZ-PTY</td>\n",
       "      <td>ADZ</td>\n",
       "      <td>PTY</td>\n",
       "      <td>C</td>\n",
       "    </tr>\n",
       "    <tr>\n",
       "      <th>2</th>\n",
       "      <td>Air France</td>\n",
       "      <td>AF</td>\n",
       "      <td>AMS-PTY</td>\n",
       "      <td>AMS</td>\n",
       "      <td>PTY</td>\n",
       "      <td>C</td>\n",
       "    </tr>\n",
       "    <tr>\n",
       "      <th>3</th>\n",
       "      <td>Copa Airlines</td>\n",
       "      <td>CM</td>\n",
       "      <td>AMS-PTY</td>\n",
       "      <td>AMS</td>\n",
       "      <td>PTY</td>\n",
       "      <td>C</td>\n",
       "    </tr>\n",
       "    <tr>\n",
       "      <th>4</th>\n",
       "      <td>KLM</td>\n",
       "      <td>KL</td>\n",
       "      <td>AMS-PTY</td>\n",
       "      <td>AMS</td>\n",
       "      <td>PTY</td>\n",
       "      <td></td>\n",
       "    </tr>\n",
       "    <tr>\n",
       "      <th>...</th>\n",
       "      <td>...</td>\n",
       "      <td>...</td>\n",
       "      <td>...</td>\n",
       "      <td>...</td>\n",
       "      <td>...</td>\n",
       "      <td>...</td>\n",
       "    </tr>\n",
       "    <tr>\n",
       "      <th>452</th>\n",
       "      <td>Iberia</td>\n",
       "      <td>IB</td>\n",
       "      <td>XPL-PTY</td>\n",
       "      <td>XPL</td>\n",
       "      <td>PTY</td>\n",
       "      <td>C</td>\n",
       "    </tr>\n",
       "    <tr>\n",
       "      <th>453</th>\n",
       "      <td>KLM</td>\n",
       "      <td>KL</td>\n",
       "      <td>XPL-PTY</td>\n",
       "      <td>XPL</td>\n",
       "      <td>PTY</td>\n",
       "      <td>C</td>\n",
       "    </tr>\n",
       "    <tr>\n",
       "      <th>454</th>\n",
       "      <td>Copa Airlines</td>\n",
       "      <td>CM</td>\n",
       "      <td>YUL-PTY</td>\n",
       "      <td>YUL</td>\n",
       "      <td>PTY</td>\n",
       "      <td></td>\n",
       "    </tr>\n",
       "    <tr>\n",
       "      <th>455</th>\n",
       "      <td>Air Canada</td>\n",
       "      <td>AC</td>\n",
       "      <td>YYZ-PTY</td>\n",
       "      <td>YYZ</td>\n",
       "      <td>PTY</td>\n",
       "      <td></td>\n",
       "    </tr>\n",
       "    <tr>\n",
       "      <th>456</th>\n",
       "      <td>Copa Airlines</td>\n",
       "      <td>CM</td>\n",
       "      <td>YYZ-PTY</td>\n",
       "      <td>YYZ</td>\n",
       "      <td>PTY</td>\n",
       "      <td></td>\n",
       "    </tr>\n",
       "  </tbody>\n",
       "</table>\n",
       "<p>457 rows × 6 columns</p>\n",
       "</div>"
      ],
      "text/plain": [
       "                Name Carrier    Route Departure Arrival Code\n",
       "0      Copa Airlines      CM  ADZ-PTY       ADZ     PTY     \n",
       "1    United Airlines      UA  ADZ-PTY       ADZ     PTY    C\n",
       "2         Air France      AF  AMS-PTY       AMS     PTY    C\n",
       "3      Copa Airlines      CM  AMS-PTY       AMS     PTY    C\n",
       "4                KLM      KL  AMS-PTY       AMS     PTY     \n",
       "..               ...     ...      ...       ...     ...  ...\n",
       "452           Iberia      IB  XPL-PTY       XPL     PTY    C\n",
       "453              KLM      KL  XPL-PTY       XPL     PTY    C\n",
       "454    Copa Airlines      CM  YUL-PTY       YUL     PTY     \n",
       "455       Air Canada      AC  YYZ-PTY       YYZ     PTY     \n",
       "456    Copa Airlines      CM  YYZ-PTY       YYZ     PTY     \n",
       "\n",
       "[457 rows x 6 columns]"
      ]
     },
     "execution_count": 166,
     "metadata": {},
     "output_type": "execute_result"
    }
   ],
   "source": [
    "df "
   ]
  },
  {
   "cell_type": "code",
   "execution_count": 167,
   "id": "aafc52aa-57e6-4337-a19b-d895238dfbec",
   "metadata": {},
   "outputs": [],
   "source": [
    "not_direct = pd.read_csv('./csv/Not_direct_routes.csv')"
   ]
  },
  {
   "cell_type": "code",
   "execution_count": 171,
   "id": "18490fc3-caf2-4b8b-9f0c-b1264c8b1fda",
   "metadata": {},
   "outputs": [],
   "source": [
    "df_2 = iata_airlines.merge(not_direct, on='Carrier', how='right')"
   ]
  },
  {
   "cell_type": "code",
   "execution_count": 173,
   "id": "01575984-c7e5-49c1-b2f5-0312dc1de95a",
   "metadata": {},
   "outputs": [],
   "source": [
    "iata_airlines.to_csv('./csv/Airlines_IATA_code.csv') "
   ]
  },
  {
   "cell_type": "code",
   "execution_count": 175,
   "id": "ac60d21a-9429-4981-b6ae-06ec382166a0",
   "metadata": {},
   "outputs": [],
   "source": [
    "df.to_csv('./csv/direct_routes_C.csv', index=False)\n",
    "df_2.to_csv('./csv/not_direct_routes_C.csv', index=False)"
   ]
  }
 ],
 "metadata": {
  "kernelspec": {
   "display_name": "Python 3 (ipykernel)",
   "language": "python",
   "name": "python3"
  },
  "language_info": {
   "codemirror_mode": {
    "name": "ipython",
    "version": 3
   },
   "file_extension": ".py",
   "mimetype": "text/x-python",
   "name": "python",
   "nbconvert_exporter": "python",
   "pygments_lexer": "ipython3",
   "version": "3.10.9"
  }
 },
 "nbformat": 4,
 "nbformat_minor": 5
}
