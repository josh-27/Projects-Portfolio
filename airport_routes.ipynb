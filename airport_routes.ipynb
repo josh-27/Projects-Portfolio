{
 "cells": [
  {
   "cell_type": "code",
   "execution_count": 1,
   "id": "f0dbe967-b2a1-47ad-b843-fd7a984aef3c",
   "metadata": {},
   "outputs": [
    {
     "name": "stdout",
     "output_type": "stream",
     "text": [
      "Requirement already satisfied: amadeus in c:\\users\\josh2\\anaconda3\\lib\\site-packages (8.0.0)\n",
      "Note: you may need to restart the kernel to use updated packages.\n"
     ]
    }
   ],
   "source": [
    "#installing ammadeus library\n",
    "pip install amadeus"
   ]
  },
  {
   "cell_type": "code",
   "execution_count": 2,
   "id": "a0b40c36-0061-46fa-9412-bbe863116c0c",
   "metadata": {},
   "outputs": [
    {
     "name": "stdout",
     "output_type": "stream",
     "text": [
      "Requirement already satisfied: python-dotenv in c:\\users\\josh2\\anaconda3\\lib\\site-packages (1.0.0)\n",
      "Note: you may need to restart the kernel to use updated packages.\n"
     ]
    }
   ],
   "source": [
    "#dotenv to hide api credentials\n",
    "pip install python-dotenv"
   ]
  },
  {
   "cell_type": "code",
   "execution_count": 3,
   "id": "2b37974e-3b9f-466d-987c-b51d41e2d71c",
   "metadata": {},
   "outputs": [],
   "source": [
    "#modules from respective library\n",
    "from amadeus import Client, ResponseError\n",
    "import pandas as pd\n",
    "import json"
   ]
  },
  {
   "cell_type": "code",
   "execution_count": 10,
   "id": "1b93b1a2-2cf5-4e14-a7f4-dbba7390cfaa",
   "metadata": {},
   "outputs": [],
   "source": [
    "from dotenv import load_dotenv\n",
    "import os"
   ]
  },
  {
   "cell_type": "code",
   "execution_count": 12,
   "id": "56b3cfcd-c3c8-423a-9c3d-30af181c7c5d",
   "metadata": {},
   "outputs": [],
   "source": [
    "#pulling the data\n",
    "load_dotenv()\n",
    "amadeus = Client(\n",
    "    client_id= os.getenv('amdeus_id'),\n",
    "    client_secret= os.getenv('amadeus_secr') \n",
    ")"
   ]
  },
  {
   "cell_type": "code",
   "execution_count": 13,
   "id": "516c4ec1-796d-4f49-a5a2-4ad84b42609b",
   "metadata": {
    "scrolled": true
   },
   "outputs": [
    {
     "name": "stdout",
     "output_type": "stream",
     "text": [
      "[{'type': 'location', 'subtype': 'city', 'name': 'SAN ANDRES ISLAND', 'iataCode': 'ADZ', 'geoCode': {'latitude': 12.58362, 'longitude': -81.71111}, 'address': {'countryName': 'COLOMBIA', 'countryCode': 'CO', 'regionCode': 'SAMER'}, 'timeZone': {'offSet': '-05:00', 'referenceLocalDateTime': '2023-06-07T22:22:31'}}, {'type': 'location', 'subtype': 'city', 'name': 'AMSTERDAM', 'iataCode': 'AMS', 'geoCode': {'latitude': 52.31028, 'longitude': 4.76028}, 'address': {'countryName': 'NETHERLANDS', 'countryCode': 'NL', 'regionCode': 'EUROP'}, 'timeZone': {'offSet': '+02:00', 'referenceLocalDateTime': '2023-06-07T22:22:31'}}, {'type': 'location', 'subtype': 'city', 'name': 'ASUNCION', 'iataCode': 'ASU', 'geoCode': {'latitude': -25.23972, 'longitude': -57.51916}, 'address': {'countryName': 'PARAGUAY', 'countryCode': 'PY', 'regionCode': 'SAMER'}, 'timeZone': {'offSet': '-04:00', 'referenceLocalDateTime': '2023-06-07T22:22:31'}}, {'type': 'location', 'subtype': 'city', 'name': 'ATLANTA', 'iataCode': 'ATL', 'geoCode': {'latitude': 33.64112, 'longitude': -84.42277}, 'address': {'countryName': 'UNITED STATES OF AMERICA', 'countryCode': 'US', 'stateCode': 'GA', 'regionCode': 'NAMER'}, 'timeZone': {'offSet': '-04:00', 'referenceLocalDateTime': '2023-06-07T22:22:31'}}, {'type': 'location', 'subtype': 'city', 'name': 'ARUBA', 'iataCode': 'AUA', 'geoCode': {'latitude': 12.50389, 'longitude': -70.00777}, 'address': {'countryName': 'ARUBA', 'countryCode': 'AW', 'regionCode': 'CARIB'}, 'timeZone': {'offSet': '-04:00', 'referenceLocalDateTime': '2023-06-07T22:22:31'}}, {'type': 'location', 'subtype': 'city', 'name': 'BARRANQUILLA', 'iataCode': 'BAQ', 'geoCode': {'latitude': 10.88973, 'longitude': -74.78083}, 'address': {'countryName': 'COLOMBIA', 'countryCode': 'CO', 'regionCode': 'SAMER'}, 'timeZone': {'offSet': '-05:00', 'referenceLocalDateTime': '2023-06-07T22:22:31'}}, {'type': 'location', 'subtype': 'city', 'name': 'BUCARAMANGA', 'iataCode': 'BGA', 'geoCode': {'latitude': 7.12639, 'longitude': -73.18472}, 'address': {'countryName': 'COLOMBIA', 'countryCode': 'CO', 'regionCode': 'SAMER'}, 'timeZone': {'offSet': '-05:00', 'referenceLocalDateTime': '2023-06-07T22:22:31'}}, {'type': 'location', 'subtype': 'city', 'name': 'BRIDGETOWN', 'iataCode': 'BGI', 'geoCode': {'latitude': 13.07473, 'longitude': -59.4925}, 'address': {'countryName': 'BARBADOS', 'countryCode': 'BB', 'regionCode': 'CARIB'}, 'timeZone': {'offSet': '-04:00', 'referenceLocalDateTime': '2023-06-07T22:22:31'}}, {'type': 'location', 'subtype': 'city', 'name': 'BELO HORIZONTE', 'iataCode': 'BHZ', 'geoCode': {'latitude': -19.92083, 'longitude': -43.93777}, 'address': {'countryName': 'BRAZIL', 'countryCode': 'BR', 'stateCode': 'MG', 'regionCode': 'SAMER'}, 'timeZone': {'offSet': '-03:00', 'referenceLocalDateTime': '2023-06-07T22:22:31'}}, {'type': 'location', 'subtype': 'city', 'name': 'BOGOTA', 'iataCode': 'BOG', 'geoCode': {'latitude': 4.70167, 'longitude': -74.14694}, 'address': {'countryName': 'COLOMBIA', 'countryCode': 'CO', 'regionCode': 'SAMER'}, 'timeZone': {'offSet': '-05:00', 'referenceLocalDateTime': '2023-06-07T22:22:31'}}, {'type': 'location', 'subtype': 'city', 'name': 'BOSTON', 'iataCode': 'BOS', 'geoCode': {'latitude': 42.36528, 'longitude': -71.01777}, 'address': {'countryName': 'UNITED STATES OF AMERICA', 'countryCode': 'US', 'stateCode': 'MA', 'regionCode': 'NAMER'}, 'timeZone': {'offSet': '-04:00', 'referenceLocalDateTime': '2023-06-07T22:22:31'}}, {'type': 'location', 'subtype': 'city', 'name': 'BRASILIA', 'iataCode': 'BSB', 'geoCode': {'latitude': -15.87111, 'longitude': -47.91861}, 'address': {'countryName': 'BRAZIL', 'countryCode': 'BR', 'stateCode': 'DF', 'regionCode': 'SAMER'}, 'timeZone': {'offSet': '-03:00', 'referenceLocalDateTime': '2023-06-07T22:22:31'}}, {'type': 'location', 'subtype': 'city', 'name': 'BUENOS AIRES', 'iataCode': 'BUE', 'geoCode': {'latitude': -34.61305, 'longitude': -58.37722}, 'address': {'countryName': 'ARGENTINA', 'countryCode': 'AR', 'stateCode': 'BA', 'regionCode': 'SAMER'}, 'timeZone': {'offSet': '-03:00', 'referenceLocalDateTime': '2023-06-07T22:22:31'}}, {'type': 'location', 'subtype': 'city', 'name': 'BELIZE CITY', 'iataCode': 'BZE', 'geoCode': {'latitude': 17.53917, 'longitude': -88.30833}, 'address': {'countryName': 'BELIZE', 'countryCode': 'BZ', 'regionCode': 'CAMER'}, 'timeZone': {'offSet': '-06:00', 'referenceLocalDateTime': '2023-06-07T22:22:31'}}, {'type': 'location', 'subtype': 'city', 'name': 'CARACAS', 'iataCode': 'CCS', 'geoCode': {'latitude': 10.60056, 'longitude': -66.99805}, 'address': {'countryName': 'VENEZUELA', 'countryCode': 'VE', 'regionCode': 'SAMER'}, 'timeZone': {'offSet': '-04:00', 'referenceLocalDateTime': '2023-06-07T22:22:31'}}, {'type': 'location', 'subtype': 'city', 'name': 'CHICAGO', 'iataCode': 'CHI', 'geoCode': {'latitude': 41.85, 'longitude': -87.65}, 'address': {'countryName': 'UNITED STATES OF AMERICA', 'countryCode': 'US', 'stateCode': 'IL', 'regionCode': 'NAMER'}, 'timeZone': {'offSet': '-05:00', 'referenceLocalDateTime': '2023-06-07T22:22:31'}}, {'type': 'location', 'subtype': 'city', 'name': 'CHICLAYO', 'iataCode': 'CIX', 'geoCode': {'latitude': -6.78638, 'longitude': -79.82777}, 'address': {'countryName': 'PERU', 'countryCode': 'PE', 'regionCode': 'SAMER'}, 'timeZone': {'offSet': '-05:00', 'referenceLocalDateTime': '2023-06-07T22:22:31'}}, {'type': 'location', 'subtype': 'city', 'name': 'CALI', 'iataCode': 'CLO', 'geoCode': {'latitude': 3.54334, 'longitude': -76.38166}, 'address': {'countryName': 'COLOMBIA', 'countryCode': 'CO', 'regionCode': 'SAMER'}, 'timeZone': {'offSet': '-05:00', 'referenceLocalDateTime': '2023-06-07T22:22:31'}}, {'type': 'location', 'subtype': 'city', 'name': 'CORDOBA', 'iataCode': 'COR', 'geoCode': {'latitude': -31.32361, 'longitude': -64.20805}, 'address': {'countryName': 'ARGENTINA', 'countryCode': 'AR', 'stateCode': 'CD', 'regionCode': 'SAMER'}, 'timeZone': {'offSet': '-03:00', 'referenceLocalDateTime': '2023-06-07T22:22:31'}}, {'type': 'location', 'subtype': 'city', 'name': 'CARTAGENA', 'iataCode': 'CTG', 'geoCode': {'latitude': 10.4425, 'longitude': -75.51305}, 'address': {'countryName': 'COLOMBIA', 'countryCode': 'CO', 'regionCode': 'SAMER'}, 'timeZone': {'offSet': '-05:00', 'referenceLocalDateTime': '2023-06-07T22:22:31'}}, {'type': 'location', 'subtype': 'city', 'name': 'CANCUN', 'iataCode': 'CUN', 'geoCode': {'latitude': 21.03667, 'longitude': -86.87694}, 'address': {'countryName': 'MEXICO', 'countryCode': 'MX', 'regionCode': 'NAMER'}, 'timeZone': {'offSet': '-05:00', 'referenceLocalDateTime': '2023-06-07T22:22:31'}}, {'type': 'location', 'subtype': 'city', 'name': 'CURACAO', 'iataCode': 'CUR', 'geoCode': {'latitude': 12.18889, 'longitude': -68.95972}, 'address': {'countryName': 'CURACAO', 'countryCode': 'CW', 'regionCode': 'CARIB'}, 'timeZone': {'offSet': '-04:00', 'referenceLocalDateTime': '2023-06-07T22:22:31'}}, {'type': 'location', 'subtype': 'city', 'name': 'DAVID', 'iataCode': 'DAV', 'geoCode': {'latitude': 8.39112, 'longitude': -82.435}, 'address': {'countryName': 'PANAMA', 'countryCode': 'PA', 'regionCode': 'CAMER'}, 'timeZone': {'offSet': '-05:00', 'referenceLocalDateTime': '2023-06-07T22:22:31'}}, {'type': 'location', 'subtype': 'city', 'name': 'DENVER', 'iataCode': 'DEN', 'geoCode': {'latitude': 39.86167, 'longitude': -104.6731}, 'address': {'countryName': 'UNITED STATES OF AMERICA', 'countryCode': 'US', 'stateCode': 'CO', 'regionCode': 'NAMER'}, 'timeZone': {'offSet': '-06:00', 'referenceLocalDateTime': '2023-06-07T22:22:31'}}, {'type': 'location', 'subtype': 'city', 'name': 'FT LAUDERDALE', 'iataCode': 'FLL', 'geoCode': {'latitude': 26.07147, 'longitude': -80.144}, 'address': {'countryName': 'UNITED STATES OF AMERICA', 'countryCode': 'US', 'stateCode': 'FL', 'regionCode': 'NAMER'}, 'timeZone': {'offSet': '-04:00', 'referenceLocalDateTime': '2023-06-07T22:22:31'}}, {'type': 'location', 'subtype': 'city', 'name': 'FRANKFURT', 'iataCode': 'FRA', 'geoCode': {'latitude': 50.04056, 'longitude': 8.55612}, 'address': {'countryName': 'GERMANY', 'countryCode': 'DE', 'regionCode': 'EUROP'}, 'timeZone': {'offSet': '+02:00', 'referenceLocalDateTime': '2023-06-07T22:22:31'}}, {'type': 'location', 'subtype': 'city', 'name': 'GUADALAJARA', 'iataCode': 'GDL', 'geoCode': {'latitude': 20.52167, 'longitude': -103.3111}, 'address': {'countryName': 'MEXICO', 'countryCode': 'MX', 'regionCode': 'NAMER'}, 'timeZone': {'offSet': '-06:00', 'referenceLocalDateTime': '2023-06-07T22:22:31'}}, {'type': 'location', 'subtype': 'city', 'name': 'GEORGETOWN', 'iataCode': 'GEO', 'geoCode': {'latitude': 6.49862, 'longitude': -58.25416}, 'address': {'countryName': 'GUYANA', 'countryCode': 'GY', 'regionCode': 'SAMER'}, 'timeZone': {'offSet': '-04:00', 'referenceLocalDateTime': '2023-06-07T22:22:31'}}, {'type': 'location', 'subtype': 'city', 'name': 'GUATEMALA CITY', 'iataCode': 'GUA', 'geoCode': {'latitude': 14.58334, 'longitude': -90.5275}, 'address': {'countryName': 'GUATEMALA', 'countryCode': 'GT', 'regionCode': 'CAMER'}, 'timeZone': {'offSet': '-06:00', 'referenceLocalDateTime': '2023-06-07T22:22:31'}}, {'type': 'location', 'subtype': 'city', 'name': 'GUAYAQUIL', 'iataCode': 'GYE', 'geoCode': {'latitude': -2.15749, 'longitude': -79.88361}, 'address': {'countryName': 'ECUADOR', 'countryCode': 'EC', 'regionCode': 'SAMER'}, 'timeZone': {'offSet': '-05:00', 'referenceLocalDateTime': '2023-06-07T22:22:31'}}, {'type': 'location', 'subtype': 'city', 'name': 'HAVANA', 'iataCode': 'HAV', 'geoCode': {'latitude': 22.98917, 'longitude': -82.40916}, 'address': {'countryName': 'CUBA', 'countryCode': 'CU', 'regionCode': 'CARIB'}, 'timeZone': {'offSet': '-04:00', 'referenceLocalDateTime': '2023-06-07T22:22:31'}}, {'type': 'location', 'subtype': 'city', 'name': 'HOLGUIN', 'iataCode': 'HOG', 'geoCode': {'latitude': 20.78556, 'longitude': -76.315}, 'address': {'countryName': 'CUBA', 'countryCode': 'CU', 'regionCode': 'CARIB'}, 'timeZone': {'offSet': '-04:00', 'referenceLocalDateTime': '2023-06-07T22:22:31'}}, {'type': 'location', 'subtype': 'city', 'name': 'HOUSTON', 'iataCode': 'HOU', 'geoCode': {'latitude': 29.64556, 'longitude': -95.27888}, 'address': {'countryName': 'UNITED STATES OF AMERICA', 'countryCode': 'US', 'stateCode': 'TX', 'regionCode': 'NAMER'}, 'timeZone': {'offSet': '-05:00', 'referenceLocalDateTime': '2023-06-07T22:22:31'}}, {'type': 'location', 'subtype': 'city', 'name': 'ISTANBUL', 'iataCode': 'IST', 'geoCode': {'latitude': 41.26028, 'longitude': 28.74195}, 'address': {'countryName': 'TURKIYE', 'countryCode': 'TR', 'regionCode': 'EURAS'}, 'timeZone': {'offSet': '+03:00', 'referenceLocalDateTime': '2023-06-07T22:22:31'}}, {'type': 'location', 'subtype': 'city', 'name': 'KINGSTON', 'iataCode': 'KIN', 'geoCode': {'latitude': 17.93556, 'longitude': -76.7875}, 'address': {'countryName': 'JAMAICA', 'countryCode': 'JM', 'regionCode': 'CARIB'}, 'timeZone': {'offSet': '-05:00', 'referenceLocalDateTime': '2023-06-07T22:22:31'}}, {'type': 'location', 'subtype': 'city', 'name': 'LAS VEGAS', 'iataCode': 'LAS', 'geoCode': {'latitude': 36.08001, 'longitude': -115.1522}, 'address': {'countryName': 'UNITED STATES OF AMERICA', 'countryCode': 'US', 'stateCode': 'NV', 'regionCode': 'NAMER'}, 'timeZone': {'offSet': '-07:00', 'referenceLocalDateTime': '2023-06-07T22:22:31'}}, {'type': 'location', 'subtype': 'city', 'name': 'LOS ANGELES', 'iataCode': 'LAX', 'geoCode': {'latitude': 33.9425, 'longitude': -118.4081}, 'address': {'countryName': 'UNITED STATES OF AMERICA', 'countryCode': 'US', 'stateCode': 'CA', 'regionCode': 'NAMER'}, 'timeZone': {'offSet': '-07:00', 'referenceLocalDateTime': '2023-06-07T22:22:31'}}, {'type': 'location', 'subtype': 'city', 'name': 'LIMA', 'iataCode': 'LIM', 'geoCode': {'latitude': -12.02194, 'longitude': -77.11444}, 'address': {'countryName': 'PERU', 'countryCode': 'PE', 'regionCode': 'SAMER'}, 'timeZone': {'offSet': '-05:00', 'referenceLocalDateTime': '2023-06-07T22:22:31'}}, {'type': 'location', 'subtype': 'city', 'name': 'GUANACASTE', 'iataCode': 'LIR', 'geoCode': {'latitude': 10.59334, 'longitude': -85.54444}, 'address': {'countryName': 'COSTA RICA', 'countryCode': 'CR', 'regionCode': 'CAMER'}, 'timeZone': {'offSet': '-06:00', 'referenceLocalDateTime': '2023-06-07T22:22:31'}}, {'type': 'location', 'subtype': 'city', 'name': 'MADRID', 'iataCode': 'MAD', 'geoCode': {'latitude': 40.49195, 'longitude': -3.56944}, 'address': {'countryName': 'SPAIN', 'countryCode': 'ES', 'regionCode': 'EUROP'}, 'timeZone': {'offSet': '+02:00', 'referenceLocalDateTime': '2023-06-07T22:22:31'}}, {'type': 'location', 'subtype': 'city', 'name': 'MANAUS', 'iataCode': 'MAO', 'geoCode': {'latitude': -3.03861, 'longitude': -60.04972}, 'address': {'countryName': 'BRAZIL', 'countryCode': 'BR', 'stateCode': 'AM', 'regionCode': 'SAMER'}, 'timeZone': {'offSet': '-04:00', 'referenceLocalDateTime': '2023-06-07T22:22:31'}}, {'type': 'location', 'subtype': 'city', 'name': 'MARACAIBO', 'iataCode': 'MAR', 'geoCode': {'latitude': 10.55834, 'longitude': -71.72777}, 'address': {'countryName': 'VENEZUELA', 'countryCode': 'VE', 'regionCode': 'SAMER'}, 'timeZone': {'offSet': '-04:00', 'referenceLocalDateTime': '2023-06-07T22:22:31'}}, {'type': 'location', 'subtype': 'city', 'name': 'MONTEGO BAY', 'iataCode': 'MBJ', 'geoCode': {'latitude': 18.50362, 'longitude': -77.91333}, 'address': {'countryName': 'JAMAICA', 'countryCode': 'JM', 'regionCode': 'CARIB'}, 'timeZone': {'offSet': '-05:00', 'referenceLocalDateTime': '2023-06-07T22:22:31'}}, {'type': 'location', 'subtype': 'city', 'name': 'MEDELLIN', 'iataCode': 'MDE', 'geoCode': {'latitude': 6.16445, 'longitude': -75.42305}, 'address': {'countryName': 'COLOMBIA', 'countryCode': 'CO', 'regionCode': 'SAMER'}, 'timeZone': {'offSet': '-05:00', 'referenceLocalDateTime': '2023-06-07T22:22:31'}}, {'type': 'location', 'subtype': 'city', 'name': 'MENDOZA', 'iataCode': 'MDZ', 'geoCode': {'latitude': -32.83166, 'longitude': -68.79277}, 'address': {'countryName': 'ARGENTINA', 'countryCode': 'AR', 'stateCode': 'MD', 'regionCode': 'SAMER'}, 'timeZone': {'offSet': '-03:00', 'referenceLocalDateTime': '2023-06-07T22:22:31'}}, {'type': 'location', 'subtype': 'city', 'name': 'MEXICO CITY', 'iataCode': 'MEX', 'geoCode': {'latitude': 19.43639, 'longitude': -99.07222}, 'address': {'countryName': 'MEXICO', 'countryCode': 'MX', 'regionCode': 'NAMER'}, 'timeZone': {'offSet': '-06:00', 'referenceLocalDateTime': '2023-06-07T22:22:31'}}, {'type': 'location', 'subtype': 'city', 'name': 'MANAGUA', 'iataCode': 'MGA', 'geoCode': {'latitude': 12.14139, 'longitude': -86.16805}, 'address': {'countryName': 'NICARAGUA', 'countryCode': 'NI', 'regionCode': 'CAMER'}, 'timeZone': {'offSet': '-06:00', 'referenceLocalDateTime': '2023-06-07T22:22:31'}}, {'type': 'location', 'subtype': 'city', 'name': 'MIAMI', 'iataCode': 'MIA', 'geoCode': {'latitude': 25.79334, 'longitude': -80.28999}, 'address': {'countryName': 'UNITED STATES OF AMERICA', 'countryCode': 'US', 'stateCode': 'FL', 'regionCode': 'NAMER'}, 'timeZone': {'offSet': '-04:00', 'referenceLocalDateTime': '2023-06-07T22:22:31'}}, {'type': 'location', 'subtype': 'city', 'name': 'NEW ORLEANS', 'iataCode': 'MSY', 'geoCode': {'latitude': 29.99334, 'longitude': -90.25805}, 'address': {'countryName': 'UNITED STATES OF AMERICA', 'countryCode': 'US', 'stateCode': 'LA', 'regionCode': 'NAMER'}, 'timeZone': {'offSet': '-05:00', 'referenceLocalDateTime': '2023-06-07T22:22:31'}}, {'type': 'location', 'subtype': 'city', 'name': 'MONTERREY', 'iataCode': 'MTY', 'geoCode': {'latitude': 25.77862, 'longitude': -100.1069}, 'address': {'countryName': 'MEXICO', 'countryCode': 'MX', 'regionCode': 'NAMER'}, 'timeZone': {'offSet': '-06:00', 'referenceLocalDateTime': '2023-06-07T22:22:31'}}, {'type': 'location', 'subtype': 'city', 'name': 'MONTEVIDEO', 'iataCode': 'MVD', 'geoCode': {'latitude': -34.83833, 'longitude': -56.03083}, 'address': {'countryName': 'URUGUAY', 'countryCode': 'UY', 'regionCode': 'SAMER'}, 'timeZone': {'offSet': '-03:00', 'referenceLocalDateTime': '2023-06-07T22:22:31'}}, {'type': 'location', 'subtype': 'city', 'name': 'NASSAU', 'iataCode': 'NAS', 'geoCode': {'latitude': 25.04584, 'longitude': -77.46611}, 'address': {'countryName': 'BAHAMAS', 'countryCode': 'BS', 'regionCode': 'CARIB'}, 'timeZone': {'offSet': '-04:00', 'referenceLocalDateTime': '2023-06-07T22:22:31'}}, {'type': 'location', 'subtype': 'city', 'name': 'NEW YORK', 'iataCode': 'NYC', 'geoCode': {'latitude': 40.71417, 'longitude': -74.00583}, 'address': {'countryName': 'UNITED STATES OF AMERICA', 'countryCode': 'US', 'stateCode': 'NY', 'regionCode': 'NAMER'}, 'timeZone': {'offSet': '-04:00', 'referenceLocalDateTime': '2023-06-07T22:22:31'}}, {'type': 'location', 'subtype': 'city', 'name': 'ORLANDO', 'iataCode': 'ORL', 'geoCode': {'latitude': 28.53, 'longitude': -81.35}, 'address': {'countryName': 'UNITED STATES OF AMERICA', 'countryCode': 'US', 'stateCode': 'FL', 'regionCode': 'NAMER'}, 'timeZone': {'offSet': '-04:00', 'referenceLocalDateTime': '2023-06-07T22:22:31'}}, {'type': 'location', 'subtype': 'city', 'name': 'PORT AU PRINCE', 'iataCode': 'PAP', 'geoCode': {'latitude': 18.58, 'longitude': -72.2925}, 'address': {'countryName': 'HAITI', 'countryCode': 'HT', 'regionCode': 'CARIB'}, 'timeZone': {'offSet': '-04:00', 'referenceLocalDateTime': '2023-06-07T22:22:31'}}, {'type': 'location', 'subtype': 'city', 'name': 'PARIS', 'iataCode': 'PAR', 'geoCode': {'latitude': 48.85334, 'longitude': 2.34889}, 'address': {'countryName': 'FRANCE', 'countryCode': 'FR', 'regionCode': 'EUROP'}, 'timeZone': {'offSet': '+02:00', 'referenceLocalDateTime': '2023-06-07T22:22:31'}}, {'type': 'location', 'subtype': 'city', 'name': 'PARAMARIBO', 'iataCode': 'PBM', 'geoCode': {'latitude': 5.45278, 'longitude': -55.18777}, 'address': {'countryName': 'SURINAME', 'countryCode': 'SR', 'regionCode': 'SAMER'}, 'timeZone': {'offSet': '-03:00', 'referenceLocalDateTime': '2023-06-07T22:22:31'}}, {'type': 'location', 'subtype': 'city', 'name': 'PEREIRA', 'iataCode': 'PEI', 'geoCode': {'latitude': 4.81278, 'longitude': -75.73944}, 'address': {'countryName': 'COLOMBIA', 'countryCode': 'CO', 'regionCode': 'SAMER'}, 'timeZone': {'offSet': '-05:00', 'referenceLocalDateTime': '2023-06-07T22:22:31'}}, {'type': 'location', 'subtype': 'city', 'name': 'PORTO ALEGRE', 'iataCode': 'POA', 'geoCode': {'latitude': -29.99444, 'longitude': -51.17138}, 'address': {'countryName': 'BRAZIL', 'countryCode': 'BR', 'stateCode': 'RS', 'regionCode': 'SAMER'}, 'timeZone': {'offSet': '-03:00', 'referenceLocalDateTime': '2023-06-07T22:22:31'}}, {'type': 'location', 'subtype': 'city', 'name': 'PORT OF SPAIN', 'iataCode': 'POS', 'geoCode': {'latitude': 10.59528, 'longitude': -61.33722}, 'address': {'countryName': 'TRINIDAD AND TOBAGO', 'countryCode': 'TT', 'regionCode': 'CARIB'}, 'timeZone': {'offSet': '-04:00', 'referenceLocalDateTime': '2023-06-07T22:22:31'}}, {'type': 'location', 'subtype': 'city', 'name': 'PUNTA CANA', 'iataCode': 'PUJ', 'geoCode': {'latitude': 18.5675, 'longitude': -68.36333}, 'address': {'countryName': 'DOMINICAN REPUBLIC', 'countryCode': 'DO', 'regionCode': 'CARIB'}, 'timeZone': {'offSet': '-04:00', 'referenceLocalDateTime': '2023-06-07T22:22:31'}}, {'type': 'location', 'subtype': 'city', 'name': 'PUERTO VALLARTA', 'iataCode': 'PVR', 'geoCode': {'latitude': 20.68, 'longitude': -105.2542}, 'address': {'countryName': 'MEXICO', 'countryCode': 'MX', 'regionCode': 'NAMER'}, 'timeZone': {'offSet': '-06:00', 'referenceLocalDateTime': '2023-06-07T22:22:31'}}, {'type': 'location', 'subtype': 'city', 'name': 'RECIFE', 'iataCode': 'REC', 'geoCode': {'latitude': -8.12666, 'longitude': -34.92305}, 'address': {'countryName': 'BRAZIL', 'countryCode': 'BR', 'stateCode': 'PE', 'regionCode': 'SAMER'}, 'timeZone': {'offSet': '-03:00', 'referenceLocalDateTime': '2023-06-07T22:22:31'}}, {'type': 'location', 'subtype': 'city', 'name': 'RIO DE JANEIRO', 'iataCode': 'RIO', 'geoCode': {'latitude': -22.90277, 'longitude': -43.2075}, 'address': {'countryName': 'BRAZIL', 'countryCode': 'BR', 'stateCode': 'RJ', 'regionCode': 'SAMER'}, 'timeZone': {'offSet': '-03:00', 'referenceLocalDateTime': '2023-06-07T22:22:31'}}, {'type': 'location', 'subtype': 'city', 'name': 'ROSARIO', 'iataCode': 'ROS', 'geoCode': {'latitude': -32.90361, 'longitude': -60.785}, 'address': {'countryName': 'ARGENTINA', 'countryCode': 'AR', 'stateCode': 'SF', 'regionCode': 'SAMER'}, 'timeZone': {'offSet': '-03:00', 'referenceLocalDateTime': '2023-06-07T22:22:31'}}, {'type': 'location', 'subtype': 'city', 'name': 'SAN SALVADOR', 'iataCode': 'SAL', 'geoCode': {'latitude': 13.44084, 'longitude': -89.05583}, 'address': {'countryName': 'EL SALVADOR', 'countryCode': 'SV', 'regionCode': 'CAMER'}, 'timeZone': {'offSet': '-06:00', 'referenceLocalDateTime': '2023-06-07T22:22:31'}}, {'type': 'location', 'subtype': 'city', 'name': 'SAO PAULO', 'iataCode': 'SAO', 'geoCode': {'latitude': -23.5475, 'longitude': -46.63611}, 'address': {'countryName': 'BRAZIL', 'countryCode': 'BR', 'stateCode': 'SP', 'regionCode': 'SAMER'}, 'timeZone': {'offSet': '-03:00', 'referenceLocalDateTime': '2023-06-07T22:22:31'}}, {'type': 'location', 'subtype': 'city', 'name': 'SAN PEDRO SULA', 'iataCode': 'SAP', 'geoCode': {'latitude': 15.45278, 'longitude': -87.92361}, 'address': {'countryName': 'HONDURAS', 'countryCode': 'HN', 'regionCode': 'CAMER'}, 'timeZone': {'offSet': '-06:00', 'referenceLocalDateTime': '2023-06-07T22:22:31'}}, {'type': 'location', 'subtype': 'city', 'name': 'SANTIAGO', 'iataCode': 'SCL', 'geoCode': {'latitude': -33.39305, 'longitude': -70.78583}, 'address': {'countryName': 'CHILE', 'countryCode': 'CL', 'regionCode': 'SAMER'}, 'timeZone': {'offSet': '-04:00', 'referenceLocalDateTime': '2023-06-07T22:22:31'}}, {'type': 'location', 'subtype': 'city', 'name': 'SANTO DOMINGO', 'iataCode': 'SDQ', 'geoCode': {'latitude': 18.42973, 'longitude': -69.66888}, 'address': {'countryName': 'DOMINICAN REPUBLIC', 'countryCode': 'DO', 'regionCode': 'CARIB'}, 'timeZone': {'offSet': '-04:00', 'referenceLocalDateTime': '2023-06-07T22:22:31'}}, {'type': 'location', 'subtype': 'city', 'name': 'SAN FRANCISCO', 'iataCode': 'SFO', 'geoCode': {'latitude': 37.61889, 'longitude': -122.375}, 'address': {'countryName': 'UNITED STATES OF AMERICA', 'countryCode': 'US', 'stateCode': 'CA', 'regionCode': 'NAMER'}, 'timeZone': {'offSet': '-07:00', 'referenceLocalDateTime': '2023-06-07T22:22:31'}}, {'type': 'location', 'subtype': 'city', 'name': 'SAN JOSE', 'iataCode': 'SJO', 'geoCode': {'latitude': 9.99389, 'longitude': -84.20888}, 'address': {'countryName': 'COSTA RICA', 'countryCode': 'CR', 'regionCode': 'CAMER'}, 'timeZone': {'offSet': '-06:00', 'referenceLocalDateTime': '2023-06-07T22:22:31'}}, {'type': 'location', 'subtype': 'city', 'name': 'SAN JUAN', 'iataCode': 'SJU', 'geoCode': {'latitude': 18.43945, 'longitude': -66.00194}, 'address': {'countryName': 'PUERTO RICO', 'countryCode': 'PR', 'regionCode': 'CARIB'}, 'timeZone': {'offSet': '-04:00', 'referenceLocalDateTime': '2023-06-07T22:22:31'}}, {'type': 'location', 'subtype': 'city', 'name': 'SALTA', 'iataCode': 'SLA', 'geoCode': {'latitude': -24.85611, 'longitude': -65.48611}, 'address': {'countryName': 'ARGENTINA', 'countryCode': 'AR', 'stateCode': 'SA', 'regionCode': 'SAMER'}, 'timeZone': {'offSet': '-03:00', 'referenceLocalDateTime': '2023-06-07T22:22:31'}}, {'type': 'location', 'subtype': 'city', 'name': 'SANTA CLARA', 'iataCode': 'SNU', 'geoCode': {'latitude': 22.49195, 'longitude': -79.94388}, 'address': {'countryName': 'CUBA', 'countryCode': 'CU', 'regionCode': 'CARIB'}, 'timeZone': {'offSet': '-04:00', 'referenceLocalDateTime': '2023-06-07T22:22:31'}}, {'type': 'location', 'subtype': 'city', 'name': 'SANTA CRUZ', 'iataCode': 'SRZ', 'geoCode': {'latitude': -17.81166, 'longitude': -63.17138}, 'address': {'countryName': 'BOLIVIA', 'countryCode': 'BO', 'regionCode': 'SAMER'}, 'timeZone': {'offSet': '-04:00', 'referenceLocalDateTime': '2023-06-07T22:22:31'}}, {'type': 'location', 'subtype': 'city', 'name': 'SALVADOR', 'iataCode': 'SSA', 'geoCode': {'latitude': -12.91111, 'longitude': -38.33111}, 'address': {'countryName': 'BRAZIL', 'countryCode': 'BR', 'stateCode': 'BA', 'regionCode': 'SAMER'}, 'timeZone': {'offSet': '-03:00', 'referenceLocalDateTime': '2023-06-07T22:22:31'}}, {'type': 'location', 'subtype': 'city', 'name': 'SANTIAGO', 'iataCode': 'STI', 'geoCode': {'latitude': 19.40612, 'longitude': -70.60472}, 'address': {'countryName': 'DOMINICAN REPUBLIC', 'countryCode': 'DO', 'regionCode': 'CARIB'}, 'timeZone': {'offSet': '-04:00', 'referenceLocalDateTime': '2023-06-07T22:22:31'}}, {'type': 'location', 'subtype': 'city', 'name': 'ST MAARTEN', 'iataCode': 'SXM', 'geoCode': {'latitude': 18.04084, 'longitude': -63.10888}, 'address': {'countryName': 'SINT MAARTEN', 'countryCode': 'SX', 'regionCode': 'CARIB'}, 'timeZone': {'offSet': '-04:00', 'referenceLocalDateTime': '2023-06-07T22:22:31'}}, {'type': 'location', 'subtype': 'city', 'name': 'TEGUCIGALPA', 'iataCode': 'TGU', 'geoCode': {'latitude': 14.06084, 'longitude': -87.21722}, 'address': {'countryName': 'HONDURAS', 'countryCode': 'HN', 'regionCode': 'CAMER'}, 'timeZone': {'offSet': '-06:00', 'referenceLocalDateTime': '2023-06-07T22:22:31'}}, {'type': 'location', 'subtype': 'city', 'name': 'TAMPA', 'iataCode': 'TPA', 'geoCode': {'latitude': 27.97556, 'longitude': -82.53333}, 'address': {'countryName': 'UNITED STATES OF AMERICA', 'countryCode': 'US', 'stateCode': 'FL', 'regionCode': 'NAMER'}, 'timeZone': {'offSet': '-04:00', 'referenceLocalDateTime': '2023-06-07T22:22:31'}}, {'type': 'location', 'subtype': 'city', 'name': 'QUITO', 'iataCode': 'UIO', 'geoCode': {'latitude': -0.11944, 'longitude': -78.35527}, 'address': {'countryName': 'ECUADOR', 'countryCode': 'EC', 'regionCode': 'SAMER'}, 'timeZone': {'offSet': '-05:00', 'referenceLocalDateTime': '2023-06-07T22:22:31'}}, {'type': 'location', 'subtype': 'city', 'name': 'VALENCIA', 'iataCode': 'VLN', 'geoCode': {'latitude': 10.14973, 'longitude': -67.92944}, 'address': {'countryName': 'VENEZUELA', 'countryCode': 'VE', 'regionCode': 'SAMER'}, 'timeZone': {'offSet': '-04:00', 'referenceLocalDateTime': '2023-06-07T22:22:31'}}, {'type': 'location', 'subtype': 'city', 'name': 'WASHINGTON', 'iataCode': 'WAS', 'geoCode': {'latitude': 38.895, 'longitude': -77.03638}, 'address': {'countryName': 'UNITED STATES OF AMERICA', 'countryCode': 'US', 'stateCode': 'DC', 'regionCode': 'NAMER'}, 'timeZone': {'offSet': '-04:00', 'referenceLocalDateTime': '2023-06-07T22:22:31'}}, {'type': 'location', 'subtype': 'city', 'name': 'MONTREAL', 'iataCode': 'YMQ', 'geoCode': {'latitude': 45.50889, 'longitude': -73.58777}, 'address': {'countryName': 'CANADA', 'countryCode': 'CA', 'stateCode': 'QC', 'regionCode': 'NAMER'}, 'timeZone': {'offSet': '-04:00', 'referenceLocalDateTime': '2023-06-07T22:22:31'}}, {'type': 'location', 'subtype': 'city', 'name': 'TORONTO', 'iataCode': 'YTO', 'geoCode': {'latitude': 43.7, 'longitude': -79.41638}, 'address': {'countryName': 'CANADA', 'countryCode': 'CA', 'stateCode': 'ON', 'regionCode': 'NAMER'}, 'timeZone': {'offSet': '-04:00', 'referenceLocalDateTime': '2023-06-07T22:22:31'}}]\n"
     ]
    }
   ],
   "source": [
    "try: \n",
    "    response = amadeus.airport.direct_destinations.get(\n",
    "                departureAirportCode='PTY')\n",
    "    print(response.data)\n",
    "except ResponseError as error:\n",
    "    print(error)"
   ]
  },
  {
   "cell_type": "code",
   "execution_count": null,
   "id": "2d0499d4-30a9-4558-a55f-7b110e4c4662",
   "metadata": {},
   "outputs": [],
   "source": [
    "#checking variable type\n",
    "destinations = response.data\n",
    "print(type(destinations))"
   ]
  },
  {
   "cell_type": "code",
   "execution_count": null,
   "id": "5b32bf65-8f21-4184-829c-0c47133e39f5",
   "metadata": {},
   "outputs": [],
   "source": [
    "#transforming to json\n",
    "json = json.dumps(destinations)"
   ]
  },
  {
   "cell_type": "code",
   "execution_count": null,
   "id": "228fab8f-248e-42b2-8335-2bf8690bdf20",
   "metadata": {
    "scrolled": true
   },
   "outputs": [],
   "source": [
    "#reading data using pandas\n",
    "datos = pd.read_json(json, orient = 'records')\n",
    "datos"
   ]
  },
  {
   "cell_type": "code",
   "execution_count": null,
   "id": "9d60a5b4-8171-4926-afa7-905d33bcc231",
   "metadata": {},
   "outputs": [],
   "source": [
    "#checking for null values \n",
    "datos.isnull().values.any()"
   ]
  },
  {
   "cell_type": "code",
   "execution_count": null,
   "id": "8e5c50f9-89ff-4563-8db3-303e0efc7ada",
   "metadata": {
    "scrolled": true
   },
   "outputs": [],
   "source": [
    "#renaming columns\n",
    "for column in datos:\n",
    "    datos = datos.rename(columns = {column : column.capitalize()})\n",
    "datos = datos.rename(columns = {'Iatacode' : 'IATA Code'})\n",
    "datos"
   ]
  },
  {
   "cell_type": "code",
   "execution_count": null,
   "id": "4c2a06a7-8808-4e2d-ac2d-110084fa2bf3",
   "metadata": {
    "scrolled": true
   },
   "outputs": [],
   "source": [
    "#function to extract desire data\n",
    "def extract(iterable, key_1, key_2):\n",
    "    keys = {}\n",
    "    countries = []\n",
    "    for a in iterable:\n",
    "        keys = a.get(key_1)\n",
    "        countries.append(keys[key_2])\n",
    "    return countries"
   ]
  },
  {
   "cell_type": "code",
   "execution_count": null,
   "id": "36113bc2-ec30-4cd7-8ff7-18e0c0cee975",
   "metadata": {},
   "outputs": [],
   "source": [
    "#extracting desire data\n",
    "countries = extract(destinations, 'address', 'countryName')\n",
    "latitude = extract(destinations, 'geoCode', 'latitude')\n",
    "longitude = extract(destinations, 'geoCode', 'longitude')\n"
   ]
  },
  {
   "cell_type": "code",
   "execution_count": null,
   "id": "c4857c68-0b98-4ceb-be61-40f215a3c4cb",
   "metadata": {},
   "outputs": [],
   "source": [
    "#changing columns name\n",
    "datos['Country'], datos['Latitude'], datos['Longitude'] = [countries, latitude, longitude]\n"
   ]
  },
  {
   "cell_type": "code",
   "execution_count": null,
   "id": "0324137d-c7f9-432c-abd6-3bf804c19a5c",
   "metadata": {},
   "outputs": [],
   "source": [
    "#clenaing not desire data \n",
    "datos.drop(datos.columns[[0, 1, 4, 5, 6]], axis = 1, inplace = True)"
   ]
  },
  {
   "cell_type": "code",
   "execution_count": null,
   "id": "9bb0e928-8b53-4b69-99b9-39152e366382",
   "metadata": {},
   "outputs": [],
   "source": [
    "#rearenging columns order\n",
    "cols = ['Name', 'Country', 'IATA Code', 'Latitude', 'Longitude']\n",
    "datos = datos[cols]\n",
    "datos"
   ]
  },
  {
   "cell_type": "code",
   "execution_count": null,
   "id": "0adf48fd-4c5c-444e-bc66-8a48e03957ae",
   "metadata": {
    "scrolled": true
   },
   "outputs": [],
   "source": [
    "#creating a csv file \n",
    "datos.to_csv('./projects/Airport_routes.csv', index = False)"
   ]
  }
 ],
 "metadata": {
  "kernelspec": {
   "display_name": "Python 3 (ipykernel)",
   "language": "python",
   "name": "python3"
  },
  "language_info": {
   "codemirror_mode": {
    "name": "ipython",
    "version": 3
   },
   "file_extension": ".py",
   "mimetype": "text/x-python",
   "name": "python",
   "nbconvert_exporter": "python",
   "pygments_lexer": "ipython3",
   "version": "3.10.9"
  }
 },
 "nbformat": 4,
 "nbformat_minor": 5
}
